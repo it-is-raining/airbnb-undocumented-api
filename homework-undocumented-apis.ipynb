{
 "cells": [
  {
   "cell_type": "markdown",
   "id": "ce40714b",
   "metadata": {},
   "source": [
    "# Homework - Finding APIs\n",
    "\n",
    "In this homework we're going to reverse-engineer [Airbnb](https://en.wikipedia.org/wiki/Airbnb)'s interactive tool to estimate the potential earnings by hosting.\n",
    "\n",
    "You can read the [press release](https://news.airbnb.com/interactive-tool-estimates-potential-monthly-host-earnings-on-airbnb/) for the tool, and view the tool on [their website](https://www.airbnb.com/host/homes?room_type=ENTIRE_HOME)."
   ]
  },
  {
   "cell_type": "markdown",
   "id": "5a3a3332",
   "metadata": {},
   "source": [
    "## Getting started\n",
    "\n",
    "As a reminder, you can follow along to the basic steps to do this from the [tutorial we went over during class](https://inspectelement.org/apis.html#tutorial)."
   ]
  },
  {
   "cell_type": "markdown",
   "id": "79a551b0",
   "metadata": {},
   "source": [
    "### 0) Go to the website, and open the developer tools.\n",
    "\n",
    "As a reminder, the website we'll be inspecting today is here:\n",
    "https://www.airbnb.com/host/homes?room_type=ENTIRE_HOME\n",
    "\n",
    "Visit that link, and open up the developer tools (see step 1 in the tutorial)."
   ]
  },
  {
   "cell_type": "markdown",
   "id": "614d2dab",
   "metadata": {},
   "source": [
    "### 1) Use the site as intended\n",
    "\n",
    "With the developer tools open, go to the \"Network\" tab.\n",
    "\n",
    "Go back to the Airbnb website window, and search a new address. It can be any address. For example, you can check the area surrounding Columbia by entering, \"Pulitzer Hall, Broadway, New York, NY, USA\".\n",
    "\n",
    "We're just doing this step to trigger the network request (API call) that requests the potential earnings for the new address."
   ]
  },
  {
   "cell_type": "markdown",
   "id": "42dd3e72",
   "metadata": {},
   "source": [
    "### 2) Find the API call\n",
    "\n",
    "After searching a new address, you should see more entries in the \"Network\" tab in the developer tools.\n",
    "\n",
    "Try to find the exact API call that pulls the estimated earnings.\n",
    "\n",
    "Hint: this is steps [3 and 4](https://inspectelement.org/apis.html#filter-requests-by-fetchxhr) in the tutorial.\n",
    "\n",
    "When you feel like you found the API call, copy it as a curl, and convert that curl into a Python request using [curlconverter.com](https://curlconverter.com/).\n",
    "\n",
    "Paste the request into the cell below, and run it."
   ]
  },
  {
   "cell_type": "code",
   "execution_count": 2,
   "id": "08332fd2",
   "metadata": {},
   "outputs": [],
   "source": [
    "#import requests\n",
    "\n",
    "# cookies = {\n",
    "#     'ak_bmsc': '647EDA233BD3330C47795F86D6E6481B~000000000000000000000000000000~YAAQxoXYFzgnkmiQAQAAUINsmBhv7gnZgY1sUljOec9c8EOPNAe71L96X4wPyHrmQHqLqWKowevjoB7nnDYjVGw8YblMO3XZe+I9g+B7+vfB06x8lbB/FxoSl5DBRfVBs0rhhXo8ubMuibeCbrzZoAlXCYj2YBl376ZmF16fuHHrXUbccYlsAG74aYnHfnQnShXRcptAFPuz3K7bBYeJjHWDuvSbePLD3JUDthNl860M5m4gwXy6/ldmd5STLzs1ieF+gXO5BFGevPZV943zibMFEgGPa0s5CfZuBIy9YhMcI51L0sfeHpoE9ON4BNyW01ijR+lcFSXWshS2CvCQGYoGdn2J/HAYuJhO3dJXngnrufIhUnwDCiFytmFjWwei/GTRhRdLun2wAg==',\n",
    "#     'country': 'US',\n",
    "#     'bev': '1720544173_EANGQ0ZmNlM2YyNz',\n",
    "#     'everest_cookie': '1720544173.MF1oPh30LZdr9Qn9Jtmw.BKLbQfjPkoifJrAaE31wNm8PgQfE0m_Dj49BX9OOBq0',\n",
    "#     '_user_attributes': '%7B%22device_profiling_session_id%22%3A%221720544173--f2e28aa14e4e60dd0ff940e0%22%2C%22giftcard_profiling_session_id%22%3A%221720544173--59f019e48ed074f90b88640d%22%2C%22reservation_profiling_session_id%22%3A%221720544173--1383774e8a9e527e7f2088b6%22%2C%22curr%22%3A%22USD%22%7D',\n",
    "#     '_ga_HG3DQR41W7': 'GS1.1.1720544198.1.0.1720544198.0.0.0',\n",
    "#     '_gid': 'GA1.2.2116318824.1720544204',\n",
    "#     'cfrmfctr': 'MOBILE',\n",
    "#     'frmfctr': 'compact',\n",
    "#     '_gcl_au': '1.1.591118994.1720544226',\n",
    "#     'OptanonConsent': '0_179750%3A1%2C0_183095%3A1%2C0_183241%3A1%2C0_179754%3A1%2C0_183346%3A1%2C0_200000%3A1%2C0_210000%3A1%2C0_210010%3A1%2C0_183215%3A1%2C0_210004%3A1%2C0_179737%3A1%2C0_179752%3A1%2C0_179751%3A1%2C0_179749%3A1%2C0_200007%3A1%2C0_210001%3A1%2C0_200005%3A1%2C0_179740%3A1%2C0_179743%3A1%2C0_179744%3A1%2C0_183243%3A1%2C0_183096%3A1%2C0_179747%3A1%2C0_183216%3A1%2C0_200012%3A1%2C0_183219%3A1%2C0_200003%3A1%2C0_179739%3A1%2C0_210002%3A1%2C0_183217%3A1%2C0_183345%3A1%2C0_210003%3A1%2C0_200011%3A1',\n",
    "#     'tzo': '-240',\n",
    "#     'cbkp': '1',\n",
    "#     '_cci': 'cban%3Aac-d8903f12-3ddf-433c-a281-2281230742e5',\n",
    "#     '_ccv': 'cban%3A0_183215%3D1%2C0_200000%3D1%2C0_183345%3D1%2C0_183243%3D1%2C0_183216%3D1%2C0_179751%3D1%2C0_200003%3D1%2C0_200005%3D1%2C0_179754%3D1%2C0_179750%3D1%2C0_179737%3D1%2C0_179744%3D1%2C0_179739%3D1%2C0_179743%3D1%2C0_179749%3D1%2C0_200012%3D1%2C0_200011%3D1%2C0_183217%3D1%2C0_183219%3D1%2C0_183096%3D1%2C0_179747%3D1%2C0_179740%3D1%2C0_179752%3D1%2C0_183241%3D1%2C0_200007%3D1%2C0_183346%3D1%2C0_183095%3D1%2C0_210000%3D1%2C0_210001%3D1%2C0_210002%3D1%2C0_210003%3D1%2C0_210004%3D1%2C0_210010%3D1',\n",
    "#     '_ga': 'GA1.1.1712706415.1720544199',\n",
    "#     'FPID': 'FPID2.2.1EzQeNMn0KZqlhIUwJQB9qmWHIqE1Fn5oLI4%2FXEgFz4%3D.1720544199',\n",
    "#     'FPLC': 'Gm0peWroWv692xcbIwwgo5GhmPLXZEJz6AlhuWTZFrTLnAstAOvCFrRTDMFRjl46qlcrySWSRWdxmWXsKNvMCqGRmiV%2BaMci52w0z70Sulvw6OvpjMpyxpB4U1i5Xw%3D%3D',\n",
    "#     'FPAU': '1.1.591118994.1720544226',\n",
    "#     'FPGSID': '1.1720544247.1720544247.G-2P6Q8PGG16.jcEty1FSq8CNX5ncjUgXhw',\n",
    "#     '_gtmeec': 'eyJleHRlcm5hbF9pZCI6IjE3MjA1NDQxNzNfRUFOR1EwWm1ObE0yWXlOeiJ9',\n",
    "#     '_scid': '908a7e18-3aa7-49ad-06e5-5c8f848b0955',\n",
    "#     '_ga_2P6Q8PGG16': 'GS1.1.1720544235.1.1.1720544252.43.0.1096926232',\n",
    "#     'previousTab': '%7B%22id%22%3A%225d9d07d2-5127-4496-b611-3a5493a5d23d%22%7D',\n",
    "#     'bm_sv': 'B1994D41F8DBAF4D5C0838F45ABDEC7B~YAAQtIXYF42zc5eQAQAAawpumBgB4ZECQJ82zkHJRzOg1PfII/zGakUcDNdqvEV/VMJPcr37PO2t9Hob+BpKGRWaSoHlC+Bh4HDzPvud5sKwYnn9Cf1D/BX+RkxSyNmtlpSusQa7aVmMpXKxCcGbTy0NuwVnGCkHA7NEWBSkFBGt1CnAv0FjbFS32bih0jKSHNqPS0QSvQVqcD2kVJ3g+SGvXA4UgsOO3PG8Nz47RIRPQgOwAmukeoA8u6wy1wWUJw==~1',\n",
    "# }\n",
    "\n",
    "# headers = {\n",
    "#     'accept': '*/*',\n",
    "#     'accept-language': 'en-GB,en-US;q=0.9,en;q=0.8',\n",
    "#     'content-type': 'application/json',\n",
    "#     # 'cookie': 'ak_bmsc=647EDA233BD3330C47795F86D6E6481B~000000000000000000000000000000~YAAQxoXYFzgnkmiQAQAAUINsmBhv7gnZgY1sUljOec9c8EOPNAe71L96X4wPyHrmQHqLqWKowevjoB7nnDYjVGw8YblMO3XZe+I9g+B7+vfB06x8lbB/FxoSl5DBRfVBs0rhhXo8ubMuibeCbrzZoAlXCYj2YBl376ZmF16fuHHrXUbccYlsAG74aYnHfnQnShXRcptAFPuz3K7bBYeJjHWDuvSbePLD3JUDthNl860M5m4gwXy6/ldmd5STLzs1ieF+gXO5BFGevPZV943zibMFEgGPa0s5CfZuBIy9YhMcI51L0sfeHpoE9ON4BNyW01ijR+lcFSXWshS2CvCQGYoGdn2J/HAYuJhO3dJXngnrufIhUnwDCiFytmFjWwei/GTRhRdLun2wAg==; country=US; bev=1720544173_EANGQ0ZmNlM2YyNz; everest_cookie=1720544173.MF1oPh30LZdr9Qn9Jtmw.BKLbQfjPkoifJrAaE31wNm8PgQfE0m_Dj49BX9OOBq0; _user_attributes=%7B%22device_profiling_session_id%22%3A%221720544173--f2e28aa14e4e60dd0ff940e0%22%2C%22giftcard_profiling_session_id%22%3A%221720544173--59f019e48ed074f90b88640d%22%2C%22reservation_profiling_session_id%22%3A%221720544173--1383774e8a9e527e7f2088b6%22%2C%22curr%22%3A%22USD%22%7D; _ga_HG3DQR41W7=GS1.1.1720544198.1.0.1720544198.0.0.0; _gid=GA1.2.2116318824.1720544204; cfrmfctr=MOBILE; frmfctr=compact; _gcl_au=1.1.591118994.1720544226; OptanonConsent=0_179750%3A1%2C0_183095%3A1%2C0_183241%3A1%2C0_179754%3A1%2C0_183346%3A1%2C0_200000%3A1%2C0_210000%3A1%2C0_210010%3A1%2C0_183215%3A1%2C0_210004%3A1%2C0_179737%3A1%2C0_179752%3A1%2C0_179751%3A1%2C0_179749%3A1%2C0_200007%3A1%2C0_210001%3A1%2C0_200005%3A1%2C0_179740%3A1%2C0_179743%3A1%2C0_179744%3A1%2C0_183243%3A1%2C0_183096%3A1%2C0_179747%3A1%2C0_183216%3A1%2C0_200012%3A1%2C0_183219%3A1%2C0_200003%3A1%2C0_179739%3A1%2C0_210002%3A1%2C0_183217%3A1%2C0_183345%3A1%2C0_210003%3A1%2C0_200011%3A1; tzo=-240; cbkp=1; _cci=cban%3Aac-d8903f12-3ddf-433c-a281-2281230742e5; _ccv=cban%3A0_183215%3D1%2C0_200000%3D1%2C0_183345%3D1%2C0_183243%3D1%2C0_183216%3D1%2C0_179751%3D1%2C0_200003%3D1%2C0_200005%3D1%2C0_179754%3D1%2C0_179750%3D1%2C0_179737%3D1%2C0_179744%3D1%2C0_179739%3D1%2C0_179743%3D1%2C0_179749%3D1%2C0_200012%3D1%2C0_200011%3D1%2C0_183217%3D1%2C0_183219%3D1%2C0_183096%3D1%2C0_179747%3D1%2C0_179740%3D1%2C0_179752%3D1%2C0_183241%3D1%2C0_200007%3D1%2C0_183346%3D1%2C0_183095%3D1%2C0_210000%3D1%2C0_210001%3D1%2C0_210002%3D1%2C0_210003%3D1%2C0_210004%3D1%2C0_210010%3D1; _ga=GA1.1.1712706415.1720544199; FPID=FPID2.2.1EzQeNMn0KZqlhIUwJQB9qmWHIqE1Fn5oLI4%2FXEgFz4%3D.1720544199; FPLC=Gm0peWroWv692xcbIwwgo5GhmPLXZEJz6AlhuWTZFrTLnAstAOvCFrRTDMFRjl46qlcrySWSRWdxmWXsKNvMCqGRmiV%2BaMci52w0z70Sulvw6OvpjMpyxpB4U1i5Xw%3D%3D; FPAU=1.1.591118994.1720544226; FPGSID=1.1720544247.1720544247.G-2P6Q8PGG16.jcEty1FSq8CNX5ncjUgXhw; _gtmeec=eyJleHRlcm5hbF9pZCI6IjE3MjA1NDQxNzNfRUFOR1EwWm1ObE0yWXlOeiJ9; _scid=908a7e18-3aa7-49ad-06e5-5c8f848b0955; _ga_2P6Q8PGG16=GS1.1.1720544235.1.1.1720544252.43.0.1096926232; previousTab=%7B%22id%22%3A%225d9d07d2-5127-4496-b611-3a5493a5d23d%22%7D; bm_sv=B1994D41F8DBAF4D5C0838F45ABDEC7B~YAAQtIXYF42zc5eQAQAAawpumBgB4ZECQJ82zkHJRzOg1PfII/zGakUcDNdqvEV/VMJPcr37PO2t9Hob+BpKGRWaSoHlC+Bh4HDzPvud5sKwYnn9Cf1D/BX+RkxSyNmtlpSusQa7aVmMpXKxCcGbTy0NuwVnGCkHA7NEWBSkFBGt1CnAv0FjbFS32bih0jKSHNqPS0QSvQVqcD2kVJ3g+SGvXA4UgsOO3PG8Nz47RIRPQgOwAmukeoA8u6wy1wWUJw==~1',\n",
    "#     'device-memory': '8',\n",
    "#     'dpr': '2',\n",
    "#     'ect': '4g',\n",
    "#     'priority': 'u=1, i',\n",
    "#     'referer': 'https://www.airbnb.com/host/homes?room_type=ENTIRE_HOME',\n",
    "#     'sec-ch-ua': '\"Not/A)Brand\";v=\"8\", \"Chromium\";v=\"126\", \"Google Chrome\";v=\"126\"',\n",
    "#     'sec-ch-ua-mobile': '?0',\n",
    "#     'sec-ch-ua-platform': '\"macOS\"',\n",
    "#     'sec-ch-ua-platform-version': '\"14.3.0\"',\n",
    "#     'sec-fetch-dest': 'empty',\n",
    "#     'sec-fetch-mode': 'cors',\n",
    "#     'sec-fetch-site': 'same-origin',\n",
    "#     'user-agent': 'Mozilla/5.0 (Macintosh; Intel Mac OS X 10_15_7) AppleWebKit/537.36 (KHTML, like Gecko) Chrome/126.0.0.0 Safari/537.36',\n",
    "#     'viewport-width': '443',\n",
    "#     'x-airbnb-api-key': 'd306zoyjsyarp7ifhu67rjxn52tv0t20',\n",
    "#     'x-airbnb-supports-airlock-v2': 'true',\n",
    "#     'x-client-request-id': '0nif5dz17feqtz1fk7pny1331qv8',\n",
    "#     'x-csrf-token': '',\n",
    "#     'x-csrf-without-token': '1',\n",
    "# }\n",
    "\n",
    "# params = [\n",
    "#     ('locale', 'en'),\n",
    "#     ('currency', 'USD'),\n",
    "#     ('country', 'US'),\n",
    "#     ('key', 'd306zoyjsyarp7ifhu67rjxn52tv0t20'),\n",
    "#     ('language', 'en'),\n",
    "#     ('locale', 'en'),\n",
    "#     ('num_results', '5'),\n",
    "#     ('user_input', '648'),\n",
    "#     ('api_version', '1.2.0'),\n",
    "#     ('satori_config_token', 'EhIiQTIiMhISMhIiERIhRQIRQiUUFWwVBhUCCo4BBQA'),\n",
    "#     ('region', '10'),\n",
    "#     ('options', 'should_filter_by_vertical_refinement|show_only_locations|exclude_listing_names'),\n",
    "# ]\n",
    "\n",
    "# response = requests.get('https://www.airbnb.com/api/v2/autocompletes', params=params, cookies=cookies, headers=headers)"
   ]
  },
  {
   "cell_type": "markdown",
   "id": "3c195d51-0766-44a9-8e50-796f7ad0a445",
   "metadata": {},
   "source": [
    "^ I used the wrong API "
   ]
  },
  {
   "cell_type": "code",
   "execution_count": 3,
   "id": "5d01b1b5-2675-4a99-9742-1899640443bd",
   "metadata": {},
   "outputs": [],
   "source": [
    "import requests\n",
    "\n",
    "cookies = {\n",
    "    'ak_bmsc': '647EDA233BD3330C47795F86D6E6481B~000000000000000000000000000000~YAAQxoXYFzgnkmiQAQAAUINsmBhv7gnZgY1sUljOec9c8EOPNAe71L96X4wPyHrmQHqLqWKowevjoB7nnDYjVGw8YblMO3XZe+I9g+B7+vfB06x8lbB/FxoSl5DBRfVBs0rhhXo8ubMuibeCbrzZoAlXCYj2YBl376ZmF16fuHHrXUbccYlsAG74aYnHfnQnShXRcptAFPuz3K7bBYeJjHWDuvSbePLD3JUDthNl860M5m4gwXy6/ldmd5STLzs1ieF+gXO5BFGevPZV943zibMFEgGPa0s5CfZuBIy9YhMcI51L0sfeHpoE9ON4BNyW01ijR+lcFSXWshS2CvCQGYoGdn2J/HAYuJhO3dJXngnrufIhUnwDCiFytmFjWwei/GTRhRdLun2wAg==',\n",
    "    'country': 'US',\n",
    "    'bev': '1720544173_EANGQ0ZmNlM2YyNz',\n",
    "    'everest_cookie': '1720544173.MF1oPh30LZdr9Qn9Jtmw.BKLbQfjPkoifJrAaE31wNm8PgQfE0m_Dj49BX9OOBq0',\n",
    "    '_user_attributes': '%7B%22device_profiling_session_id%22%3A%221720544173--f2e28aa14e4e60dd0ff940e0%22%2C%22giftcard_profiling_session_id%22%3A%221720544173--59f019e48ed074f90b88640d%22%2C%22reservation_profiling_session_id%22%3A%221720544173--1383774e8a9e527e7f2088b6%22%2C%22curr%22%3A%22USD%22%7D',\n",
    "    '_ga_HG3DQR41W7': 'GS1.1.1720544198.1.0.1720544198.0.0.0',\n",
    "    '_gid': 'GA1.2.2116318824.1720544204',\n",
    "    'cfrmfctr': 'MOBILE',\n",
    "    'frmfctr': 'compact',\n",
    "    '_gcl_au': '1.1.591118994.1720544226',\n",
    "    'OptanonConsent': '0_179750%3A1%2C0_183095%3A1%2C0_183241%3A1%2C0_179754%3A1%2C0_183346%3A1%2C0_200000%3A1%2C0_210000%3A1%2C0_210010%3A1%2C0_183215%3A1%2C0_210004%3A1%2C0_179737%3A1%2C0_179752%3A1%2C0_179751%3A1%2C0_179749%3A1%2C0_200007%3A1%2C0_210001%3A1%2C0_200005%3A1%2C0_179740%3A1%2C0_179743%3A1%2C0_179744%3A1%2C0_183243%3A1%2C0_183096%3A1%2C0_179747%3A1%2C0_183216%3A1%2C0_200012%3A1%2C0_183219%3A1%2C0_200003%3A1%2C0_179739%3A1%2C0_210002%3A1%2C0_183217%3A1%2C0_183345%3A1%2C0_210003%3A1%2C0_200011%3A1',\n",
    "    'tzo': '-240',\n",
    "    'cbkp': '1',\n",
    "    '_cci': 'cban%3Aac-d8903f12-3ddf-433c-a281-2281230742e5',\n",
    "    '_ccv': 'cban%3A0_183215%3D1%2C0_200000%3D1%2C0_183345%3D1%2C0_183243%3D1%2C0_183216%3D1%2C0_179751%3D1%2C0_200003%3D1%2C0_200005%3D1%2C0_179754%3D1%2C0_179750%3D1%2C0_179737%3D1%2C0_179744%3D1%2C0_179739%3D1%2C0_179743%3D1%2C0_179749%3D1%2C0_200012%3D1%2C0_200011%3D1%2C0_183217%3D1%2C0_183219%3D1%2C0_183096%3D1%2C0_179747%3D1%2C0_179740%3D1%2C0_179752%3D1%2C0_183241%3D1%2C0_200007%3D1%2C0_183346%3D1%2C0_183095%3D1%2C0_210000%3D1%2C0_210001%3D1%2C0_210002%3D1%2C0_210003%3D1%2C0_210004%3D1%2C0_210010%3D1',\n",
    "    '_ga': 'GA1.1.1712706415.1720544199',\n",
    "    'FPID': 'FPID2.2.1EzQeNMn0KZqlhIUwJQB9qmWHIqE1Fn5oLI4%2FXEgFz4%3D.1720544199',\n",
    "    'FPLC': 'Gm0peWroWv692xcbIwwgo5GhmPLXZEJz6AlhuWTZFrTLnAstAOvCFrRTDMFRjl46qlcrySWSRWdxmWXsKNvMCqGRmiV%2BaMci52w0z70Sulvw6OvpjMpyxpB4U1i5Xw%3D%3D',\n",
    "    'FPAU': '1.1.591118994.1720544226',\n",
    "    'FPGSID': '1.1720544247.1720544247.G-2P6Q8PGG16.jcEty1FSq8CNX5ncjUgXhw',\n",
    "    '_gtmeec': 'eyJleHRlcm5hbF9pZCI6IjE3MjA1NDQxNzNfRUFOR1EwWm1ObE0yWXlOeiJ9',\n",
    "    '_scid': '908a7e18-3aa7-49ad-06e5-5c8f848b0955',\n",
    "    '_ga_2P6Q8PGG16': 'GS1.1.1720544235.1.1.1720544252.43.0.1096926232',\n",
    "    'previousTab': '%7B%22id%22%3A%225d9d07d2-5127-4496-b611-3a5493a5d23d%22%7D',\n",
    "    'bm_sv': 'B1994D41F8DBAF4D5C0838F45ABDEC7B~YAAQtIXYFxe0c5eQAQAAyBBumBgubkK4iPoCLabpYwLZukAvBBGgTbja1USBwXym4pAzG5VFZSaiUsnGuv4kN5armSHNYZ8ymXaZg/xzziUPJS6ooAyrxFH/EgUmWmDw8vQ1NJyx/KuQqzebOZ2PemddGI5IrOYFophwdXJ/qgDoESQJQtkpiSxEYkpOhF+m6pzf7hZ8EAX0hYvWlRyM6qg1JhleckHHilXzMdtmo9pW1/KO5zLpvD5nAGYFKGQMXw==~1',\n",
    "}\n",
    "\n",
    "headers = {\n",
    "    'accept': '*/*',\n",
    "    'accept-language': 'en-GB,en-US;q=0.9,en;q=0.8',\n",
    "    'content-type': 'application/json',\n",
    "    # 'cookie': 'ak_bmsc=647EDA233BD3330C47795F86D6E6481B~000000000000000000000000000000~YAAQxoXYFzgnkmiQAQAAUINsmBhv7gnZgY1sUljOec9c8EOPNAe71L96X4wPyHrmQHqLqWKowevjoB7nnDYjVGw8YblMO3XZe+I9g+B7+vfB06x8lbB/FxoSl5DBRfVBs0rhhXo8ubMuibeCbrzZoAlXCYj2YBl376ZmF16fuHHrXUbccYlsAG74aYnHfnQnShXRcptAFPuz3K7bBYeJjHWDuvSbePLD3JUDthNl860M5m4gwXy6/ldmd5STLzs1ieF+gXO5BFGevPZV943zibMFEgGPa0s5CfZuBIy9YhMcI51L0sfeHpoE9ON4BNyW01ijR+lcFSXWshS2CvCQGYoGdn2J/HAYuJhO3dJXngnrufIhUnwDCiFytmFjWwei/GTRhRdLun2wAg==; country=US; bev=1720544173_EANGQ0ZmNlM2YyNz; everest_cookie=1720544173.MF1oPh30LZdr9Qn9Jtmw.BKLbQfjPkoifJrAaE31wNm8PgQfE0m_Dj49BX9OOBq0; _user_attributes=%7B%22device_profiling_session_id%22%3A%221720544173--f2e28aa14e4e60dd0ff940e0%22%2C%22giftcard_profiling_session_id%22%3A%221720544173--59f019e48ed074f90b88640d%22%2C%22reservation_profiling_session_id%22%3A%221720544173--1383774e8a9e527e7f2088b6%22%2C%22curr%22%3A%22USD%22%7D; _ga_HG3DQR41W7=GS1.1.1720544198.1.0.1720544198.0.0.0; _gid=GA1.2.2116318824.1720544204; cfrmfctr=MOBILE; frmfctr=compact; _gcl_au=1.1.591118994.1720544226; OptanonConsent=0_179750%3A1%2C0_183095%3A1%2C0_183241%3A1%2C0_179754%3A1%2C0_183346%3A1%2C0_200000%3A1%2C0_210000%3A1%2C0_210010%3A1%2C0_183215%3A1%2C0_210004%3A1%2C0_179737%3A1%2C0_179752%3A1%2C0_179751%3A1%2C0_179749%3A1%2C0_200007%3A1%2C0_210001%3A1%2C0_200005%3A1%2C0_179740%3A1%2C0_179743%3A1%2C0_179744%3A1%2C0_183243%3A1%2C0_183096%3A1%2C0_179747%3A1%2C0_183216%3A1%2C0_200012%3A1%2C0_183219%3A1%2C0_200003%3A1%2C0_179739%3A1%2C0_210002%3A1%2C0_183217%3A1%2C0_183345%3A1%2C0_210003%3A1%2C0_200011%3A1; tzo=-240; cbkp=1; _cci=cban%3Aac-d8903f12-3ddf-433c-a281-2281230742e5; _ccv=cban%3A0_183215%3D1%2C0_200000%3D1%2C0_183345%3D1%2C0_183243%3D1%2C0_183216%3D1%2C0_179751%3D1%2C0_200003%3D1%2C0_200005%3D1%2C0_179754%3D1%2C0_179750%3D1%2C0_179737%3D1%2C0_179744%3D1%2C0_179739%3D1%2C0_179743%3D1%2C0_179749%3D1%2C0_200012%3D1%2C0_200011%3D1%2C0_183217%3D1%2C0_183219%3D1%2C0_183096%3D1%2C0_179747%3D1%2C0_179740%3D1%2C0_179752%3D1%2C0_183241%3D1%2C0_200007%3D1%2C0_183346%3D1%2C0_183095%3D1%2C0_210000%3D1%2C0_210001%3D1%2C0_210002%3D1%2C0_210003%3D1%2C0_210004%3D1%2C0_210010%3D1; _ga=GA1.1.1712706415.1720544199; FPID=FPID2.2.1EzQeNMn0KZqlhIUwJQB9qmWHIqE1Fn5oLI4%2FXEgFz4%3D.1720544199; FPLC=Gm0peWroWv692xcbIwwgo5GhmPLXZEJz6AlhuWTZFrTLnAstAOvCFrRTDMFRjl46qlcrySWSRWdxmWXsKNvMCqGRmiV%2BaMci52w0z70Sulvw6OvpjMpyxpB4U1i5Xw%3D%3D; FPAU=1.1.591118994.1720544226; FPGSID=1.1720544247.1720544247.G-2P6Q8PGG16.jcEty1FSq8CNX5ncjUgXhw; _gtmeec=eyJleHRlcm5hbF9pZCI6IjE3MjA1NDQxNzNfRUFOR1EwWm1ObE0yWXlOeiJ9; _scid=908a7e18-3aa7-49ad-06e5-5c8f848b0955; _ga_2P6Q8PGG16=GS1.1.1720544235.1.1.1720544252.43.0.1096926232; previousTab=%7B%22id%22%3A%225d9d07d2-5127-4496-b611-3a5493a5d23d%22%7D; bm_sv=B1994D41F8DBAF4D5C0838F45ABDEC7B~YAAQtIXYFxe0c5eQAQAAyBBumBgubkK4iPoCLabpYwLZukAvBBGgTbja1USBwXym4pAzG5VFZSaiUsnGuv4kN5armSHNYZ8ymXaZg/xzziUPJS6ooAyrxFH/EgUmWmDw8vQ1NJyx/KuQqzebOZ2PemddGI5IrOYFophwdXJ/qgDoESQJQtkpiSxEYkpOhF+m6pzf7hZ8EAX0hYvWlRyM6qg1JhleckHHilXzMdtmo9pW1/KO5zLpvD5nAGYFKGQMXw==~1',\n",
    "    'device-memory': '8',\n",
    "    'dpr': '2',\n",
    "    'ect': '4g',\n",
    "    'priority': 'u=1, i',\n",
    "    'referer': 'https://www.airbnb.com/host/homes?room_type=ENTIRE_HOME',\n",
    "    'sec-ch-ua': '\"Not/A)Brand\";v=\"8\", \"Chromium\";v=\"126\", \"Google Chrome\";v=\"126\"',\n",
    "    'sec-ch-ua-mobile': '?0',\n",
    "    'sec-ch-ua-platform': '\"macOS\"',\n",
    "    'sec-ch-ua-platform-version': '\"14.3.0\"',\n",
    "    'sec-fetch-dest': 'empty',\n",
    "    'sec-fetch-mode': 'cors',\n",
    "    'sec-fetch-site': 'same-origin',\n",
    "    'user-agent': 'Mozilla/5.0 (Macintosh; Intel Mac OS X 10_15_7) AppleWebKit/537.36 (KHTML, like Gecko) Chrome/126.0.0.0 Safari/537.36',\n",
    "    'viewport-width': '443',\n",
    "    'x-airbnb-api-key': 'd306zoyjsyarp7ifhu67rjxn52tv0t20',\n",
    "    'x-airbnb-graphql-platform': 'web',\n",
    "    'x-airbnb-graphql-platform-client': 'minimalist-niobe',\n",
    "    'x-airbnb-supports-airlock-v2': 'true',\n",
    "    'x-client-request-id': '04k0gw20h49x6b0whrjg51qde1zi',\n",
    "    'x-client-version': '5b2eda94d76ff52f8edad4eca21d871934d983c0',\n",
    "    'x-csrf-token': '',\n",
    "    'x-csrf-without-token': '1',\n",
    "    'x-niobe-short-circuited': 'true',\n",
    "}\n",
    "\n",
    "params = {\n",
    "    'operationName': 'GetHostEstimateData',\n",
    "    'locale': 'en',\n",
    "    'currency': 'USD',\n",
    "    'variables': '{\"durationGranularity\":[\"MONTHLY\"],\"source\":\"HOST_LANDING_PAGE\",\"location\":{\"searchQuery\":\"648 West Buckingham Place, Chicago, IL, USA\"},\"roomTypeCategory\":\"ENTIRE_HOME\",\"bedroom\":1,\"fetchDebugInfo\":false}',\n",
    "    'extensions': '{\"persistedQuery\":{\"version\":1,\"sha256Hash\":\"7aa6bb483a31d77a137c3442b007c846a3c0ab778c2581ace8f264c0fe10648b\"}}',\n",
    "}\n",
    "\n",
    "response = requests.get(\n",
    "    'https://www.airbnb.com/api/v3/GetHostEstimateData/7aa6bb483a31d77a137c3442b007c846a3c0ab778c2581ace8f264c0fe10648b',\n",
    "    params=params,\n",
    "    cookies=cookies,\n",
    "    headers=headers,\n",
    ")"
   ]
  },
  {
   "cell_type": "code",
   "execution_count": 5,
   "id": "ba7fa3a9",
   "metadata": {},
   "outputs": [],
   "source": [
    "# use this function to show the raw JSON response\n",
    "\n",
    "#response.json()"
   ]
  },
  {
   "cell_type": "markdown",
   "id": "b751ccea",
   "metadata": {},
   "source": [
    "store the JSON response (dictionary) in a `records` variable to parse."
   ]
  },
  {
   "cell_type": "code",
   "execution_count": 7,
   "id": "964cc042",
   "metadata": {},
   "outputs": [],
   "source": [
    "records = response.json()"
   ]
  },
  {
   "cell_type": "markdown",
   "id": "1aa22b2b",
   "metadata": {},
   "source": [
    "here's a trick to see the keys in the dictionary."
   ]
  },
  {
   "cell_type": "code",
   "execution_count": 8,
   "id": "69b96e87",
   "metadata": {},
   "outputs": [
    {
     "data": {
      "text/plain": [
       "dict_keys(['data', 'extensions'])"
      ]
     },
     "execution_count": 8,
     "metadata": {},
     "output_type": "execute_result"
    }
   ],
   "source": [
    "#records.keys()\n",
    "\n",
    "records.keys()"
   ]
  },
  {
   "cell_type": "code",
   "execution_count": 9,
   "id": "092f4e2a-7aff-47fa-877c-c2eec9993b99",
   "metadata": {},
   "outputs": [
    {
     "data": {
      "text/plain": [
       "dict_keys(['__typename', 'header', 'description', 'locationPin', 'locationDetails', 'mapMarkers', 'suggestedMapBounds', 'responseInfo', 'errorInfo'])"
      ]
     },
     "execution_count": 9,
     "metadata": {},
     "output_type": "execute_result"
    }
   ],
   "source": [
    "records['data']['presentation']['hostEstimate']['hostEstimateScreen'].keys()"
   ]
  },
  {
   "cell_type": "markdown",
   "id": "e69ce8e7",
   "metadata": {},
   "source": [
    "If the dictionary is nested, you can go to the next key, and then list the keys, again."
   ]
  },
  {
   "cell_type": "code",
   "execution_count": 10,
   "id": "5605550d",
   "metadata": {},
   "outputs": [],
   "source": [
    "# records['data']['presentation'].keys()"
   ]
  },
  {
   "cell_type": "markdown",
   "id": "6006f8a4",
   "metadata": {},
   "source": [
    "### 3) Parse the response\n",
    "In the cell below, traverse the JSON response and get the estimated revenue per night. Store this in a variable named `estimate`."
   ]
  },
  {
   "cell_type": "code",
   "execution_count": 11,
   "id": "3460cf26",
   "metadata": {},
   "outputs": [
    {
     "data": {
      "text/plain": [
       "'$140'"
      ]
     },
     "execution_count": 11,
     "metadata": {},
     "output_type": "execute_result"
    }
   ],
   "source": [
    "estimate = records['data']['presentation']['hostEstimate']['hostEstimateScreen']['header']['sections'][1]['value'] # if it isn't obvious, you should change this line of code\n",
    "estimate"
   ]
  },
  {
   "cell_type": "markdown",
   "id": "91ea8de9",
   "metadata": {},
   "source": [
    "### 4) Recycle the API call\n",
    "\n",
    "Next, we're going to make the API call reusable. In the cells below fill in what the URL is for the API call"
   ]
  },
  {
   "cell_type": "code",
   "execution_count": 13,
   "id": "cfefd790",
   "metadata": {},
   "outputs": [],
   "source": [
    "# what is the URL of the API we found?\n",
    "url = 'https://www.airbnb.com/api/v3/GetHostEstimateData/7aa6bb483a31d77a137c3442b007c846a3c0ab778c2581ace8f264c0fe10648b'\n",
    "\n",
    "# copy the necessary headers here\n",
    "headers = {\n",
    "    'accept': '*/*',\n",
    "    'accept-language': 'en-GB,en-US;q=0.9,en;q=0.8',\n",
    "    'content-type': 'application/json',\n",
    "    'dpr': '2',\n",
    "    'ect': '4g',\n",
    "    'priority': 'u=1, i',\n",
    "    'referer': 'https://www.airbnb.com/host/homes?room_type=ENTIRE_HOME',\n",
    "    'sec-ch-ua': '\"Not/A)Brand\";v=\"8\", \"Chromium\";v=\"126\", \"Google Chrome\";v=\"126\"',\n",
    "    'sec-ch-ua-mobile': '?0',\n",
    "    'sec-ch-ua-platform': '\"macOS\"',\n",
    "    'sec-ch-ua-platform-version': '\"14.3.0\"',\n",
    "    'sec-fetch-dest': 'empty',\n",
    "    'sec-fetch-mode': 'cors',\n",
    "    'sec-fetch-site': 'same-origin',\n",
    "    'user-agent': 'Mozilla/5.0 (Macintosh; Intel Mac OS X 10_15_7) AppleWebKit/537.36 (KHTML, like Gecko) Chrome/126.0.0.0 Safari/537.36',\n",
    "    'viewport-width': '443',\n",
    "    'x-airbnb-api-key': 'd306zoyjsyarp7ifhu67rjxn52tv0t20',\n",
    "    'x-airbnb-graphql-platform': 'web',\n",
    "    'x-airbnb-graphql-platform-client': 'minimalist-niobe',\n",
    "    'x-airbnb-supports-airlock-v2': 'true',\n",
    "    'x-client-request-id': '04k0gw20h49x6b0whrjg51qde1zi',\n",
    "    'x-client-version': '5b2eda94d76ff52f8edad4eca21d871934d983c0',\n",
    "    'x-csrf-token': '',\n",
    "    'x-csrf-without-token': '1',\n",
    "    'x-niobe-short-circuited': 'true',\n",
    "}\n",
    "\n",
    "# copy the necessary parameters here, but replace the hard-coded address with the variable\n",
    "address = ''\n",
    "params = {\n",
    "    'operationName': 'GetHostEstimateData',\n",
    "    'locale': 'en',\n",
    "    'currency': 'USD',\n",
    "    'variables': '{\"durationGranularity\":[\"MONTHLY\"],\"source\":\"HOST_LANDING_PAGE\",\"location\":{\"searchQuery\": address},\"roomTypeCategory\":\"ENTIRE_HOME\",\"bedroom\": \"fetchDebugInfo\":false}',\n",
    "    'extensions': '{\"persistedQuery\":{\"version\":1,\"sha256Hash\":\"7aa6bb483a31d77a137c3442b007c846a3c0ab778c2581ace8f264c0fe10648b\"}}',\n",
    "}\n",
    "\n",
    "response = requests.get(url, params=params, headers=headers)"
   ]
  },
  {
   "cell_type": "markdown",
   "id": "e16775eb",
   "metadata": {},
   "source": [
    "### 5) Make more API calls\n",
    "Run the API call for at least two other `address`es"
   ]
  },
  {
   "cell_type": "code",
   "execution_count": 14,
   "id": "3bca46fc",
   "metadata": {},
   "outputs": [],
   "source": [
    "import time"
   ]
  },
  {
   "cell_type": "code",
   "execution_count": 15,
   "id": "fbea52b2",
   "metadata": {},
   "outputs": [],
   "source": [
    "# here are some random addresses you can use:\n",
    "addresses = [\n",
    "    \"Pulitzer Hall, Broadway, New York, NY, USA\",\n",
    "    '1932 Bryant Avenue, The Bronx, NY, USA',\n",
    "    '810 39th Avenue Northeast, Naples, FL, USA',\n",
    "    '86 North 6th Street, Brooklyn, NY, USA'\n",
    "]"
   ]
  },
  {
   "cell_type": "code",
   "execution_count": 30,
   "id": "b66d133c",
   "metadata": {},
   "outputs": [],
   "source": [
    "responses = [] # we'll record the API responses here.\n",
    "for address in addresses:\n",
    "    params = {\n",
    "    'operationName': 'GetHostEstimateData',\n",
    "    'locale': 'en',\n",
    "    'currency': 'USD',\n",
    "    'variables': '{\"durationGranularity\":[\"MONTHLY\"],\"source\":\"HOST_LANDING_PAGE\",\"location\":{\"searchQuery\": address},\"roomTypeCategory\":\"ENTIRE_HOME\",\"bedroom\":1,\"fetchDebugInfo\":false}',\n",
    "    'extensions': '{\"persistedQuery\":{\"version\":1,\"sha256Hash\":\"7aa6bb483a31d77a137c3442b007c846a3c0ab778c2581ace8f264c0fe10648b\"}}',\n",
    "}\n",
    "    response = requests.get(url, params=params, headers=headers)\n",
    "    \n",
    "    # check if the API call was successful by checking the status\n",
    "    if response.status_code == 200:\n",
    "        responses.append(response.json())\n",
    "    \n",
    "    # put some time between requests\n",
    "    time.sleep(1) "
   ]
  },
  {
   "cell_type": "code",
   "execution_count": 31,
   "id": "46590894-6045-443e-8f52-b5e1bab96990",
   "metadata": {},
   "outputs": [
    {
     "data": {
      "text/plain": [
       "[{'errors': [{'message': 'Response not successful: Received status code 400',\n",
       "    'locations': [{'line': 1, 'column': 1}],\n",
       "    'path': [],\n",
       "    'extensions': {'response': {'statusCode': 400,\n",
       "      'body': {'error_code': 400,\n",
       "       'error_type': 'invalid_input',\n",
       "       'error_message': 'Could not complete request, input was malformed.'}},\n",
       "     'code': 'Bad Request'}}],\n",
       "  'data': None},\n",
       " {'errors': [{'message': 'Response not successful: Received status code 400',\n",
       "    'locations': [{'line': 1, 'column': 1}],\n",
       "    'path': [],\n",
       "    'extensions': {'response': {'statusCode': 400,\n",
       "      'body': {'error_code': 400,\n",
       "       'error_type': 'invalid_input',\n",
       "       'error_message': 'Could not complete request, input was malformed.'}},\n",
       "     'code': 'Bad Request'}}],\n",
       "  'data': None},\n",
       " {'errors': [{'message': 'Response not successful: Received status code 400',\n",
       "    'locations': [{'line': 1, 'column': 1}],\n",
       "    'path': [],\n",
       "    'extensions': {'response': {'statusCode': 400,\n",
       "      'body': {'error_code': 400,\n",
       "       'error_type': 'invalid_input',\n",
       "       'error_message': 'Could not complete request, input was malformed.'}},\n",
       "     'code': 'Bad Request'}}],\n",
       "  'data': None},\n",
       " {'errors': [{'message': 'Response not successful: Received status code 400',\n",
       "    'locations': [{'line': 1, 'column': 1}],\n",
       "    'path': [],\n",
       "    'extensions': {'response': {'statusCode': 400,\n",
       "      'body': {'error_code': 400,\n",
       "       'error_type': 'invalid_input',\n",
       "       'error_message': 'Could not complete request, input was malformed.'}},\n",
       "     'code': 'Bad Request'}}],\n",
       "  'data': None}]"
      ]
     },
     "execution_count": 31,
     "metadata": {},
     "output_type": "execute_result"
    }
   ],
   "source": [
    "responses\n",
    "\n",
    "#Are my responses not successful because I formatted the address variable incorrectly?"
   ]
  },
  {
   "cell_type": "markdown",
   "id": "0bf08522",
   "metadata": {},
   "source": [
    "### 6) What are the daily estimated earnings?\n",
    "Print the estimated earning per night for each address in `responses`."
   ]
  },
  {
   "cell_type": "code",
   "execution_count": null,
   "id": "e0c585fe",
   "metadata": {},
   "outputs": [],
   "source": [
    "for records in responses:\n",
    "    estimate = records['you did this above, but you will need to change this']\n",
    "    print(estimate)"
   ]
  },
  {
   "cell_type": "markdown",
   "id": "2588f9ca",
   "metadata": {},
   "source": [
    "### Extra Credit\n",
    "1. We just printed the estimates above, can you also record the query addresses and print those, too?\n",
    "2. Check different rental configurations in the number of \"bedrooms\".\n",
    "3. What other information is hidden in the API response, anything interesting?\n",
    "\n",
    "### Super Extra\n",
    "1. Get a random sample of addresses from usps.biglocalnews.org\n",
    "    - Merge socioeconomic data from the American Community Survey\n",
    "    - Format the addresses to match the input in the Airbnb site.\n",
    "2. Check if there are patterns in which areas are given the lowest estimates."
   ]
  },
  {
   "cell_type": "code",
   "execution_count": null,
   "id": "ce1aadc6",
   "metadata": {},
   "outputs": [],
   "source": []
  }
 ],
 "metadata": {
  "kernelspec": {
   "display_name": "Python 3 (ipykernel)",
   "language": "python",
   "name": "python3"
  },
  "language_info": {
   "codemirror_mode": {
    "name": "ipython",
    "version": 3
   },
   "file_extension": ".py",
   "mimetype": "text/x-python",
   "name": "python",
   "nbconvert_exporter": "python",
   "pygments_lexer": "ipython3",
   "version": "3.11.9"
  }
 },
 "nbformat": 4,
 "nbformat_minor": 5
}
